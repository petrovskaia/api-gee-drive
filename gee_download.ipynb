{
 "cells": [
  {
   "cell_type": "code",
   "execution_count": 1,
   "metadata": {},
   "outputs": [],
   "source": [
    "from tools import *\n",
    "from gee_download import sat_imagery_to_gdrive, save_to_local_drive"
   ]
  },
  {
   "attachments": {},
   "cell_type": "markdown",
   "metadata": {},
   "source": [
    "### Download file"
   ]
  },
  {
   "cell_type": "code",
   "execution_count": 2,
   "metadata": {},
   "outputs": [
    {
     "name": "stdout",
     "output_type": "stream",
     "text": [
      "Exporting to site.tif ...\n"
     ]
    },
    {
     "name": "stderr",
     "output_type": "stream",
     "text": [
      "Downloading to Drive: 8it [00:23,  3.00s/it]\n"
     ]
    }
   ],
   "source": [
    "sat_imagery_to_gdrive(bbox=[101.5129, 56.8344, 101.5912, 56.8665])"
   ]
  },
  {
   "cell_type": "code",
   "execution_count": 3,
   "metadata": {},
   "outputs": [
    {
     "name": "stdout",
     "output_type": "stream",
     "text": [
      "Found file: site.tif, 1uvdHeSsWh0HeZvvSs-hoh9fCgxzRrF6V\n",
      "Download 100.\n"
     ]
    }
   ],
   "source": [
    "save_to_local_drive()"
   ]
  },
  {
   "attachments": {},
   "cell_type": "markdown",
   "metadata": {},
   "source": [
    "### Delete file"
   ]
  },
  {
   "cell_type": "code",
   "execution_count": 2,
   "metadata": {},
   "outputs": [],
   "source": [
    "from google.oauth2.service_account import Credentials\n",
    "from googleapiclient.discovery import build"
   ]
  },
  {
   "cell_type": "code",
   "execution_count": 81,
   "metadata": {},
   "outputs": [],
   "source": [
    "file_name='micro'\n",
    "\n",
    "#build service for Google Drive\n",
    "scopes = ['https://www.googleapis.com/auth/drive']\n",
    "credentials_gdrive = Credentials.from_service_account_file(\n",
    "                                    \"./creds/ee-sat-imagery-90b7aa0dc579.json\", \n",
    "                                    scopes=scopes)\n",
    "service = build('drive', 'v3', credentials=credentials_gdrive)\n",
    "\n",
    "files = []\n",
    "page_token = None\n",
    "\n",
    "while True:\n",
    "        # pylint: disable=maybe-no-member\n",
    "        response = service.files().list(\n",
    "                                    spaces=\"drive\",\n",
    "                                    q=f\"\"\"\\\n",
    "                                    mimeType = 'image/tiff'\\\n",
    "                                    and name contains '{file_name}'\\\n",
    "                                    and trashed=false\n",
    "                                    \"\"\",\n",
    "                                    fields=\"files(id, name, mimeType)\",).execute()\n",
    "        for file in response.get('files', []):\n",
    "            # Process change\n",
    "            print(F'Found file: {file.get(\"name\")}, {file.get(\"id\")}')\n",
    "            real_file_id = file.get(\"id\")\n",
    "\n",
    "\n",
    "        page_token = response.get('nextPageToken', None)\n",
    "        if page_token is None:\n",
    "            break\n",
    "        "
   ]
  },
  {
   "cell_type": "code",
   "execution_count": 82,
   "metadata": {},
   "outputs": [
    {
     "ename": "HttpError",
     "evalue": "<HttpError 404 when requesting https://www.googleapis.com/drive/v3/files/1EHIYtEKXbFm2o013xWHIezEJ_zsmgewv? returned \"File not found: 1EHIYtEKXbFm2o013xWHIezEJ_zsmgewv.\". Details: \"[{'message': 'File not found: 1EHIYtEKXbFm2o013xWHIezEJ_zsmgewv.', 'domain': 'global', 'reason': 'notFound', 'location': 'fileId', 'locationType': 'parameter'}]\">",
     "output_type": "error",
     "traceback": [
      "\u001b[0;31m---------------------------------------------------------------------------\u001b[0m",
      "\u001b[0;31mHttpError\u001b[0m                                 Traceback (most recent call last)",
      "Cell \u001b[0;32mIn[82], line 2\u001b[0m\n\u001b[1;32m      1\u001b[0m \u001b[39m#delete file\u001b[39;00m\n\u001b[0;32m----> 2\u001b[0m file \u001b[39m=\u001b[39m service\u001b[39m.\u001b[39;49mfiles()\u001b[39m.\u001b[39;49mdelete(fileId\u001b[39m=\u001b[39;49mreal_file_id)\u001b[39m.\u001b[39;49mexecute()\n",
      "File \u001b[0;32m/opt/homebrew/Caskroom/mambaforge/base/lib/python3.10/site-packages/googleapiclient/_helpers.py:130\u001b[0m, in \u001b[0;36mpositional.<locals>.positional_decorator.<locals>.positional_wrapper\u001b[0;34m(*args, **kwargs)\u001b[0m\n\u001b[1;32m    128\u001b[0m     \u001b[39melif\u001b[39;00m positional_parameters_enforcement \u001b[39m==\u001b[39m POSITIONAL_WARNING:\n\u001b[1;32m    129\u001b[0m         logger\u001b[39m.\u001b[39mwarning(message)\n\u001b[0;32m--> 130\u001b[0m \u001b[39mreturn\u001b[39;00m wrapped(\u001b[39m*\u001b[39;49margs, \u001b[39m*\u001b[39;49m\u001b[39m*\u001b[39;49mkwargs)\n",
      "File \u001b[0;32m/opt/homebrew/Caskroom/mambaforge/base/lib/python3.10/site-packages/googleapiclient/http.py:938\u001b[0m, in \u001b[0;36mHttpRequest.execute\u001b[0;34m(self, http, num_retries)\u001b[0m\n\u001b[1;32m    936\u001b[0m     callback(resp)\n\u001b[1;32m    937\u001b[0m \u001b[39mif\u001b[39;00m resp\u001b[39m.\u001b[39mstatus \u001b[39m>\u001b[39m\u001b[39m=\u001b[39m \u001b[39m300\u001b[39m:\n\u001b[0;32m--> 938\u001b[0m     \u001b[39mraise\u001b[39;00m HttpError(resp, content, uri\u001b[39m=\u001b[39m\u001b[39mself\u001b[39m\u001b[39m.\u001b[39muri)\n\u001b[1;32m    939\u001b[0m \u001b[39mreturn\u001b[39;00m \u001b[39mself\u001b[39m\u001b[39m.\u001b[39mpostproc(resp, content)\n",
      "\u001b[0;31mHttpError\u001b[0m: <HttpError 404 when requesting https://www.googleapis.com/drive/v3/files/1EHIYtEKXbFm2o013xWHIezEJ_zsmgewv? returned \"File not found: 1EHIYtEKXbFm2o013xWHIezEJ_zsmgewv.\". Details: \"[{'message': 'File not found: 1EHIYtEKXbFm2o013xWHIezEJ_zsmgewv.', 'domain': 'global', 'reason': 'notFound', 'location': 'fileId', 'locationType': 'parameter'}]\">"
     ]
    }
   ],
   "source": [
    "#delete file\n",
    "file = service.files().delete(fileId=real_file_id).execute()"
   ]
  },
  {
   "cell_type": "code",
   "execution_count": null,
   "metadata": {},
   "outputs": [],
   "source": []
  }
 ],
 "metadata": {
  "kernelspec": {
   "display_name": "base",
   "language": "python",
   "name": "python3"
  },
  "language_info": {
   "codemirror_mode": {
    "name": "ipython",
    "version": 3
   },
   "file_extension": ".py",
   "mimetype": "text/x-python",
   "name": "python",
   "nbconvert_exporter": "python",
   "pygments_lexer": "ipython3",
   "version": "3.10.8"
  },
  "orig_nbformat": 4
 },
 "nbformat": 4,
 "nbformat_minor": 2
}
